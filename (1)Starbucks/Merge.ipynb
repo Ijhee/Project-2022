{
 "cells": [
  {
   "cell_type": "code",
   "execution_count": 1,
   "id": "f19fbc9c",
   "metadata": {},
   "outputs": [],
   "source": [
    "import pandas as pd\n",
    "\n",
    "df1 = pd.read_csv(\"sb1.csv\")\n",
    "df2 = pd.read_csv(\"sb2.csv\")\n",
    "\n",
    "df = pd.concat([df1, df2], axis = 0)\n",
    "df.to_csv(\"coordinate.csv\", index = False)"
   ]
  }
 ],
 "metadata": {
  "kernelspec": {
   "display_name": "Python 3 (ipykernel)",
   "language": "python",
   "name": "python3"
  },
  "language_info": {
   "codemirror_mode": {
    "name": "ipython",
    "version": 3
   },
   "file_extension": ".py",
   "mimetype": "text/x-python",
   "name": "python",
   "nbconvert_exporter": "python",
   "pygments_lexer": "ipython3",
   "version": "3.7.10"
  }
 },
 "nbformat": 4,
 "nbformat_minor": 5
}
