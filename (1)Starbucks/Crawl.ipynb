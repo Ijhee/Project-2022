{
 "cells": [
  {
   "cell_type": "code",
   "execution_count": null,
   "id": "f112217a",
   "metadata": {},
   "outputs": [],
   "source": [
    "from bs4 import BeautifulSoup\n",
    "from selenium import webdriver\n",
    "import time\n",
    "\n",
    "import pandas as pd\n",
    "\n",
    "df = pd.read_csv(\"coordinate.csv\")"
   ]
  },
  {
   "cell_type": "code",
   "execution_count": null,
   "id": "9fd8bdc7",
   "metadata": {},
   "outputs": [],
   "source": [
    "path = \"./chromedriver\"\n",
    "cor = []\n",
    "for address in lst:\n",
    "    \n",
    "    driver = webdriver.Chrome(path)\n",
    "    driver.get(\"https://address.dawul.co.kr/\")\n",
    "    time.sleep(2)\n",
    "    \n",
    "    driver.find_element_by_id(\"input_juso\").click()\n",
    "    element = driver.find_element_by_id(\"input_juso\")\n",
    "    element.send_keys(address)\n",
    "    driver.find_element_by_id(\"btnSch\").click()\n",
    "    time.sleep(2)\n",
    "\n",
    "    add = driver.find_element_by_id(\"insert_data_5\")\n",
    "    X = add.get_attribute('textContent')\n",
    "    cor.append(X)\n",
    "    \n",
    "    driver.quit()"
   ]
  },
  {
   "cell_type": "code",
   "execution_count": 49,
   "id": "47a4ab23",
   "metadata": {
    "scrolled": true
   },
   "outputs": [],
   "source": [
    "df[\"cor\"] = ncor\n",
    "df.to_csv(\"cor_df.csv\", index = False)"
   ]
  }
 ],
 "metadata": {
  "kernelspec": {
   "display_name": "Python 3 (ipykernel)",
   "language": "python",
   "name": "python3"
  },
  "language_info": {
   "codemirror_mode": {
    "name": "ipython",
    "version": 3
   },
   "file_extension": ".py",
   "mimetype": "text/x-python",
   "name": "python",
   "nbconvert_exporter": "python",
   "pygments_lexer": "ipython3",
   "version": "3.7.10"
  }
 },
 "nbformat": 4,
 "nbformat_minor": 5
}
