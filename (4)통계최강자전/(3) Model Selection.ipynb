{
 "cells": [
  {
   "cell_type": "code",
   "execution_count": null,
   "id": "cb4333c9",
   "metadata": {},
   "outputs": [],
   "source": [
    "import pandas as pd\n",
    "import matplotlib.pyplot as plt\n",
    "\n",
    "from catboost import CatBoostClassifier\n",
    "from lightgbm import LGBMClassifier\n",
    "from sklearn.ensemble import RandomForestClassifier\n",
    "from sklearn.linear_model import LogisticRegression, SGDClassifier\n",
    "\n",
    "from sklearn.metrics import accuracy_score, roc_auc_score\n",
    "from sklearn.model_selection import train_test_split"
   ]
  },
  {
   "cell_type": "code",
   "execution_count": null,
   "id": "73d17179",
   "metadata": {},
   "outputs": [],
   "source": [
    "models = [CatBoostClassifier(verbose = False), LGBMClassifier(), \n",
    "          RandomForestClassifier(), LogisticRegression(solver = \"liblinear\"), \n",
    "          SGDClassifier(loss = \"modified_huber\")]\n",
    "model_name = [\"CAT \", \"LGBM \", \"RF \", \"LR \", \"SGD \"]"
   ]
  },
  {
   "cell_type": "code",
   "execution_count": null,
   "id": "eb178cce",
   "metadata": {},
   "outputs": [],
   "source": [
    "for l1 in [\"o\", \"v\"]:\n",
    "    for l2 in [\"i\", \"b\", \"f\"]:\n",
    "        \n",
    "        for n in range(1, 5):\n",
    "            DATA_PATH = l1 + l2 + \"_train\" + str(n) + \".csv\"\n",
    "            df = pd.read_csv(DATA_PATH)\n",
    "            df_zero = df[df[\"target\"] == 0]; df_one = df[df[\"target\"] == 1]\n",
    "            idx = 0\n",
    "            patient = 0\n",
    "            \n",
    "            for model in models: \n",
    "                res = []\n",
    "                \n",
    "                for i in range(1, 10):\n",
    "                    _len = int(len(df) * 0.1 * i)\n",
    "                    a, b = int(_len * (len(df_zero) /(len(df_zero) + len(df_one)))), \n",
    "                        int(_len * (len(df_one) /(len(df_zero) + len(df_one))))\n",
    "                    sub_zero, sub_one = df_zero.sample(n = a, replace = True),\n",
    "                        df_one.sample(n = b, replace = True)\n",
    "                    sub = pd.concat([sub_zero, sub_one], axis = 0)\n",
    "                    sub = sub.sample(frac = 1)\n",
    "\n",
    "                    X, y = sub.drop([\"target\"], axis = 1), sub[\"target\"]\n",
    "                    X_train, X_test, y_train, y_test = train_test_split(X, y, test_size = 0.2, random_state = 24)\n",
    "                    model.fit(X_train, y_train)\n",
    "                    \n",
    "                    score1 = roc_auc_score(y_test, model.predict_proba(X_test)[:, 1])\n",
    "                    score2 = accuracy_score(y_test, model.predict(X_test))\n",
    "                    \n",
    "                    if i == 0: res.append((score1 + score2) / 2)\n",
    "                    else:\n",
    "                        if res[-1] >= (score1 + score2) / 2:\n",
    "                            patient += 1\n",
    "                            res.append((score1 + score) / 2)\n",
    "                        if patient == 3:\n",
    "                    \n",
    "                    break"
   ]
  }
 ],
 "metadata": {
  "kernelspec": {
   "display_name": "Python 3 (ipykernel)",
   "language": "python",
   "name": "python3"
  },
  "language_info": {
   "codemirror_mode": {
    "name": "ipython",
    "version": 3
   },
   "file_extension": ".py",
   "mimetype": "text/x-python",
   "name": "python",
   "nbconvert_exporter": "python",
   "pygments_lexer": "ipython3",
   "version": "3.7.10"
  }
 },
 "nbformat": 4,
 "nbformat_minor": 5
}
