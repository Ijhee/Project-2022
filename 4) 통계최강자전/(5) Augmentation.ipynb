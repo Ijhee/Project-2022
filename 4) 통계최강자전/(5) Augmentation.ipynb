{
 "cells": [
  {
   "cell_type": "code",
   "execution_count": 2,
   "id": "1234917a",
   "metadata": {},
   "outputs": [],
   "source": [
    "from tabgan.sampler import OriginalGenerator\n",
    "from imblearn.over_sampling import RandomOverSampler, SMOTE\n",
    "\n",
    "import pandas as pd\n",
    "import numpy as np"
   ]
  },
  {
   "cell_type": "code",
   "execution_count": null,
   "id": "f0425ddb",
   "metadata": {},
   "outputs": [],
   "source": [
    "def data_aug(DATA_PATH, ver):\n",
    "    \n",
    "    df = pd.read_csv(DATA_PATH)\n",
    "    X, y = df.drop([\"target\"], axis = 1), df[\"target\"]\n",
    "    train, test = df.iloc[:, :-1], df.iloc[:, :-1]\n",
    "    target = df.iloc[:, -1]\n",
    "    \n",
    "    if ver == \"GAN\":\n",
    "        new_train, new_target = OriginalGenerator().generate_data_pipe(train, \n",
    "                            pd.DataFrame(target), test)\n",
    "        \n",
    "        _max, _min = df.target.value_counts()[0], df.target.value_counts()[1]\n",
    "        target = [_max - _min, int(0.8 * _max) - _min, int(0.6 * _max) - _min]\n",
    "        ndf = pd.concat([new_train, new_target], axis = 1)\n",
    "        ndf = ndf[ndf[\"target\"] == 1]\n",
    "        \n",
    "        for tg in target:\n",
    "            ndf = ndf.sample(frac = 1)\n",
    "            if len(ndf) >= tg: ndf = ndf.iloc[:tg, :]\n",
    "                temp = pd.concat([df, ndf], axis = 0)\n",
    "                temp = temp.sample(frac = 1)\n",
    "                temp.to_csv(DATA_PATH[:-15] + \"-\" + str(idx) + \".csv\", index = False)\n",
    "    \n",
    "    elif ver == \"ROS\":\n",
    "        ros = RandomOverSampler(random_state = 24)\n",
    "        X_ros, y_ros = ros.fit_resample(X, y)\n",
    "        \n",
    "        ratio = [1.0, 0.8, 0.6]\n",
    "\n",
    "        idx = list(np.where(y_ros == 0)[0]); idx2 = list(np.where(y_ros == 1)[0])\n",
    "        for r in ratio:\n",
    "            key = int(len(idx2) * r)\n",
    "            temp_X = X_ros.loc[idx + idx2[:key], :]; temp_y = y_ros[idx + idx2[:key]]\n",
    "            temp = pd.concat([temp_X, pd.DataFrame(temp_y)], axis = 1)\n",
    "            temp.to_csv(DATA_PATH[:-15] + \"-\" + str(flag) + \".csv\", index = False)\n",
    "    \n",
    "    elif ver == \"SMOTE\"\n",
    "        for r in [1, 0.8, 0.6]:\n",
    "            smote = SMOTE(random_state = 24, sampling_strategy = r)\n",
    "            X_smote, y_smote = smote.fit_resample(X, y)\n",
    "            temp = pd.concat([X_smote, pd.DataFrame(y_smote)], axis = 1)\n",
    "            temp.to_csv(DATA_PATH[:-15] + \"-\" + str(idx) + \".csv\")"
   ]
  }
 ],
 "metadata": {
  "kernelspec": {
   "display_name": "Python 3 (ipykernel)",
   "language": "python",
   "name": "python3"
  },
  "language_info": {
   "codemirror_mode": {
    "name": "ipython",
    "version": 3
   },
   "file_extension": ".py",
   "mimetype": "text/x-python",
   "name": "python",
   "nbconvert_exporter": "python",
   "pygments_lexer": "ipython3",
   "version": "3.7.10"
  }
 },
 "nbformat": 4,
 "nbformat_minor": 5
}
