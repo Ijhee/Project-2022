{
 "cells": [
  {
   "cell_type": "code",
   "execution_count": null,
   "id": "a9133c3f",
   "metadata": {},
   "outputs": [],
   "source": [
    "import pandas as pd\n",
    "\n",
    "from sklearn.metrics import confusion_matrix\n",
    "from sklearn.model_selection import GridSearchCV\n",
    "\n",
    "from sklearn.linear_model import LogisticRegression, SGDClassifier\n",
    "from sklearn.ensemble import RandomForestClassifier\n",
    "from lightgbm import LGBMClassifier\n",
    "from catboost import CatBoostClassifier"
   ]
  },
  {
   "cell_type": "code",
   "execution_count": null,
   "id": "428dbf0d",
   "metadata": {},
   "outputs": [],
   "source": [
    "mdict = {\"CAT \" : CatBoostClassifier(verbose = False), \"LGBM \" : LGBMClassifier(), \"RF \" : RandomForestClassifier(),\n",
    "        \"LR \" : LogisticRegression(solver = \"liblinear\"), \"SGD \" : SGDClassifier()}"
   ]
  },
  {
   "cell_type": "code",
   "execution_count": null,
   "id": "3973278b",
   "metadata": {},
   "outputs": [],
   "source": [
    "tree_grid1 = {\"n_estimators\" : [20, 40, 60, 80, 100],\n",
    "            \"learning_rate\" : [0.01, 0.05, 0.1]}\n",
    "tree_grid2 = {\"n_estimators\" : [20, 40, 60, 80, 100],\n",
    "             \"max_features\" : [\"log2\", \"sqrt\"]}\n",
    "linear_grid1 = {\"penalty\" : [\"l2\", \"l1\"], \n",
    "                \"C\" : [0.6, 0.7, 0.8, 0.9, 1.0]}\n",
    "linear_grid2 = {\"loss\" : [\"modified_huber\", \"squared_hinge\", \"perceptron\"],\n",
    "               \"penalty\" : [\"l2\", \"l1\"]}\n",
    "\n",
    "pdict = {0 : tree_grid1, 1 : tree_grid1, 2 : tree_grid2, 3 : linear_grid1, 4 : linear_grid2}"
   ]
  },
  {
   "cell_type": "code",
   "execution_count": null,
   "id": "2bef19e3",
   "metadata": {},
   "outputs": [],
   "source": [
    "def make_confusion_matrix(DATA_PATH, DATA_PATH2, mdict):\n",
    "    \n",
    "    train, test = pd.read_csv(DATA_PATH), pd.read_csc(DATA_PATH2)\n",
    "    test = train.loc[:, train.columns]\n",
    "    \n",
    "    model = mdict[m]\n",
    "    \n",
    "    X, y = train.drop([\"target\"], axis = 1), train[\"target\"]\n",
    "    X_test, y_test = test.drop([\"target\"], axis = 1), test[\"target\"]\n",
    "    \n",
    "    grid = GridSearchCV(model, param_grid = pdict[idx], cv = 3, refit = True)\n",
    "    grid.fit(X, y)\n",
    "    _pred = grid.best_estimator_.predict(X_test)\n",
    "                    \n",
    "    mat = confusion_matrix(y_test, _pred)\n",
    "    mat = pd.DataFrame(mat)\n",
    "    mat.to_csv(DATA_PATH[:-4] + \"-res.csv\")"
   ]
  }
 ],
 "metadata": {
  "kernelspec": {
   "display_name": "Python 3 (ipykernel)",
   "language": "python",
   "name": "python3"
  },
  "language_info": {
   "codemirror_mode": {
    "name": "ipython",
    "version": 3
   },
   "file_extension": ".py",
   "mimetype": "text/x-python",
   "name": "python",
   "nbconvert_exporter": "python",
   "pygments_lexer": "ipython3",
   "version": "3.7.10"
  }
 },
 "nbformat": 4,
 "nbformat_minor": 5
}
