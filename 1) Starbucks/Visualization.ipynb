{
  "nbformat": 4,
  "nbformat_minor": 0,
  "metadata": {
    "colab": {
      "private_outputs": true,
      "provenance": []
    },
    "kernelspec": {
      "name": "python3",
      "display_name": "Python 3"
    },
    "language_info": {
      "name": "python"
    }
  },
  "cells": [
    {
      "cell_type": "code",
      "source": [
        "!pip install haversine"
      ],
      "metadata": {
        "id": "yPLHkprlfMby"
      },
      "execution_count": null,
      "outputs": []
    },
    {
      "cell_type": "code",
      "source": [
        "!pip install folium"
      ],
      "metadata": {
        "id": "xViUWbZV4u-y"
      },
      "execution_count": null,
      "outputs": []
    },
    {
      "cell_type": "code",
      "source": [
        "import folium\n",
        "from folium import Marker\n",
        "import pandas as pd"
      ],
      "metadata": {
        "id": "xeZPu3wZ4xzP"
      },
      "execution_count": null,
      "outputs": []
    },
    {
      "cell_type": "code",
      "source": [
        "df = pd.read_csv(\"Visualization.csv\")"
      ],
      "metadata": {
        "id": "o3FuEGSI7w-I"
      },
      "execution_count": null,
      "outputs": []
    },
    {
      "cell_type": "code",
      "source": [
        "#각 지점들의 경도/위도 받아오기\n",
        "lst = []\n",
        "for i in range(0,5):\n",
        "    latitude, longitude = df.iloc[80,i*2], df.iloc[80,i*2+1]\n",
        "    lst.append([latitude,longitude])\n",
        "\n",
        "#기준점 설정\n",
        "m = folium.Map(location= lst[0], tiles='openstreetmap', zoom_start=17)\n",
        "\n",
        "#삼각형을 그리기 위한 list 추가 생성\n",
        "poly=lst[:-2]\n",
        "poly.append(lst[0])\n",
        "\n",
        "#graph 초기 설정 및 진행 코드\n",
        "\n",
        "color = ['red', 'red','red','green','black']\n",
        "name = ['EDIYA', 'DAISO', 'OLIVEYOUNG' ,'STARBUCKS','PREDICTION']\n",
        "i = 0\n",
        "\n",
        "for lct in lst:\n",
        "    Marker(location = lct,\n",
        "           popup = name[i],\n",
        "           icon = folium.Icon(color[i], icon = 'star')\n",
        "           ).add_to(m)\n",
        "    i+=1\n",
        "\n",
        "folium.PolyLine(locations = poly, fill = True, tooltip = 'Polyline').add_to(m)\n",
        "\n",
        "m"
      ],
      "metadata": {
        "id": "Ak5d27M4Ci1E"
      },
      "execution_count": null,
      "outputs": []
    }
  ]
}