{
 "cells": [
  {
   "cell_type": "code",
   "execution_count": 13,
   "id": "84b64e3e",
   "metadata": {
    "scrolled": true
   },
   "outputs": [],
   "source": [
    "import pandas as pd\n",
    "import numpy as np\n",
    "\n",
    "import matplotlib.pyplot as plt\n",
    "import seaborn as sns\n",
    "\n",
    "df = pd.read_csv(\"final_result.csv\")"
   ]
  },
  {
   "cell_type": "code",
   "execution_count": 34,
   "id": "24547e20",
   "metadata": {},
   "outputs": [
    {
     "name": "stdout",
     "output_type": "stream",
     "text": [
      "The Best Result came from Method  E \n",
      " The Result has been calculated by LR and LR \n",
      " The Calculated Distant is :  0.0743730626468314 \n",
      " And the coordinate is  (37.59630343903702, 127.0866008009594)\n"
     ]
    }
   ],
   "source": [
    "#최우수 결과\n",
    "model_name = [\"LR\", \"SVR\", \"RF\", \"LGBM\", \"XGB\"]\n",
    "\n",
    "print(\"The Best Result came from Method \", df.iloc[0, 0], \"\\n\", \n",
    "      \"The Result has been calculated by \" + model_name[int(df.iloc[0, 1][1])] + \" and \" + model_name[int(df.iloc[0, 1][4])],\"\\n\",\n",
    "      \"The Calculated Distant is : \", df.iloc[0, 2],\"\\n\",\n",
    "     \"And the coordinate is \", df.iloc[0, 3])"
   ]
  },
  {
   "cell_type": "code",
   "execution_count": 22,
   "id": "519aca7d",
   "metadata": {},
   "outputs": [
    {
     "name": "stdout",
     "output_type": "stream",
     "text": [
      "A  => 거리의 평균 :  4.171903071733151 거리의 중위수 :  3.854113181315305 거리의 표준편차 :  4.044717114994988\n",
      "B  => 거리의 평균 :  17.12607787379586 거리의 중위수 :  16.871974261353742 거리의 표준편차 :  3.6436831789706163\n",
      "C  => 거리의 평균 :  5.223824687656762 거리의 중위수 :  5.09277877441142 거리의 표준편차 :  5.198705604722894\n",
      "D  => 거리의 평균 :  5.107625007214954 거리의 중위수 :  3.606369371445473 거리의 표준편차 :  5.066261727669598\n",
      "E  => 거리의 평균 :  5.151193741977965 거리의 중위수 :  4.449166707477717 거리의 표준편차 :  5.169262860164996\n"
     ]
    }
   ],
   "source": [
    "#방법론 별 분석\n",
    "\n",
    "method = {\"A\" : [], \"B\" : [], \"C\" : [], \"D\" : [], \"E\" : []}\n",
    "for i in range(len(df)):\n",
    "    method[df.iloc[i, 0]].append(df.iloc[i, 2])\n",
    "\n",
    "for i in method.keys():\n",
    "    print(i, \" => 거리의 평균 : \", np.mean(method[i]), \"거리의 중위수 : \", np.median(method[i]), \"거리의 표준편차 : \", np.std(method[i]))"
   ]
  },
  {
   "cell_type": "code",
   "execution_count": 68,
   "id": "01728a11",
   "metadata": {},
   "outputs": [
    {
     "name": "stdout",
     "output_type": "stream",
     "text": [
      "LR  => 거리의 평균 :  5.181620957483691 거리의 중위수 :  0.5569697148761629 거리의 표준편차 :  6.284447957462164\n",
      "SVR  => 거리의 평균 :  12.638626973421344 거리의 중위수 :  11.25448929861099 거리의 표준편차 :  3.289187388343497\n",
      "RF  => 거리의 평균 :  5.678603304935726 거리의 중위수 :  0.7796468048363936 거리의 표준편차 :  6.750586223550604\n",
      "LGBM  => 거리의 평균 :  7.097017441884543 거리의 중위수 :  4.474181770779888 거리의 표준편차 :  5.963227057578984\n",
      "XGB  => 거리의 평균 :  6.184755704653387 거리의 중위수 :  0.7941476802027335 거리의 표준편차 :  7.79591363044589\n"
     ]
    }
   ],
   "source": [
    "#모델 별 분석\n",
    "\n",
    "model = {\"LR\" : [], \"SVR\" : [], \"RF\" : [], \"LGBM\" : [], \"XGB\" : []}\n",
    "for i in range(len(df)):\n",
    "    temp_lst = list(df.iloc[i, 1])\n",
    "    for j in temp_lst:\n",
    "        if ord(j) >= 48 and ord(j) <= 52:\n",
    "            model[list(model.keys())[ord(j) - 48]].append(df.iloc[i, 2])\n",
    "\n",
    "for i in model.keys():\n",
    "    print(i, \" => 거리의 평균 : \", np.mean(model[i]), \"거리의 중위수 : \", np.median(model[i]), \"거리의 표준편차 : \", np.std(model[i]))"
   ]
  }
 ],
 "metadata": {
  "kernelspec": {
   "display_name": "Python 3 (ipykernel)",
   "language": "python",
   "name": "python3"
  },
  "language_info": {
   "codemirror_mode": {
    "name": "ipython",
    "version": 3
   },
   "file_extension": ".py",
   "mimetype": "text/x-python",
   "name": "python",
   "nbconvert_exporter": "python",
   "pygments_lexer": "ipython3",
   "version": "3.7.10"
  }
 },
 "nbformat": 4,
 "nbformat_minor": 5
}
