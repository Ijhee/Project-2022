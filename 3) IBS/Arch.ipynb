{
 "cells": [
  {
   "cell_type": "code",
   "execution_count": 1,
   "id": "fc1ee3d9",
   "metadata": {},
   "outputs": [],
   "source": [
    "import pandas as pd\n",
    "import numpy as np\n",
    "\n",
    "from sklearn.preprocessing import LabelEncoder\n",
    "import matplotlib.pyplot as plt"
   ]
  },
  {
   "cell_type": "markdown",
   "id": "f03825e6",
   "metadata": {},
   "source": [
    "## 김찬영 결과"
   ]
  },
  {
   "cell_type": "code",
   "execution_count": 2,
   "id": "c668d070",
   "metadata": {},
   "outputs": [
    {
     "name": "stdout",
     "output_type": "stream",
     "text": [
      "total :  25\n",
      "ACC :  13\n",
      "Var :  12\n"
     ]
    }
   ],
   "source": [
    "acc = 0; acc_lst = []\n",
    "var = 0; var_lst = []\n",
    "temp = 0\n",
    "result1 = []\n",
    "for i in range(1, 26):\n",
    "    res1 = pd.read_csv(\"IBS-res-kcy_df\" + str(i) + \".csv\")\n",
    "    res2 = pd.read_csv(\"PI-res-kcy_df\" + str(i) + \".csv\")   \n",
    "    a, b = res1[\"1\"].mean(), res2[\"1\"].mean()\n",
    "    c, d = res1[\"0\"].mean(), res2[\"0\"].mean()\n",
    "    if a > b: acc += 1; acc_lst.append([i, a - b])\n",
    "    if c <= d: var += 1; var_lst.append([i, d - c])\n",
    "    temp += 1\n",
    "    result1.append([a, b])\n",
    "    \n",
    "    if i == 1: \n",
    "        temp1 = pd.DataFrame(res1.mean(axis = 0)).T\n",
    "        temp2 = pd.DataFrame(res2.mean(axis = 0)).T\n",
    "    else:\n",
    "        temp1 = pd.concat([temp1, pd.DataFrame(res1.mean(axis = 0)).T])\n",
    "        temp2 = pd.concat([temp2, pd.DataFrame(res2.mean(axis = 0)).T])\n",
    "\n",
    "print(\"total : \", temp)\n",
    "print(\"ACC : \", acc)\n",
    "# print(*acc_lst)\n",
    "print(\"Var : \", var)\n",
    "# print(*var_lst)"
   ]
  },
  {
   "cell_type": "markdown",
   "id": "0c12a5d1",
   "metadata": {},
   "source": [
    "## 이준희 결과"
   ]
  },
  {
   "cell_type": "code",
   "execution_count": 3,
   "id": "0b29feea",
   "metadata": {},
   "outputs": [
    {
     "name": "stdout",
     "output_type": "stream",
     "text": [
      "total :  25\n",
      "ACC :  12\n",
      "Var :  9\n"
     ]
    }
   ],
   "source": [
    "acc = 0; acc_lst = []\n",
    "var = 0; var_lst = []\n",
    "temp = 0\n",
    "result2 = []\n",
    "for i in range(1, 26):\n",
    "    \n",
    "    res1 = pd.read_csv(\"IBS-res-ljh_df\" + str(i) + \".csv\")\n",
    "    res2 = pd.read_csv(\"PI-res-ljh_df\" + str(i) + \".csv\")   \n",
    "    a, b = res1[\"1\"].mean(), res2[\"1\"].mean()\n",
    "    c, d = res1[\"0\"].mean(), res2[\"0\"].mean()\n",
    "    if a > b: acc += 1; acc_lst.append([i, a - b])\n",
    "    if c <= d: var += 1; var_lst.append([i, d - c])\n",
    "    temp += 1\n",
    "    result2.append([a, b])\n",
    "    \n",
    "    if i == 1: \n",
    "        temp3 = pd.DataFrame(res1.mean(axis = 0)).T\n",
    "        temp4 = pd.DataFrame(res2.mean(axis = 0)).T\n",
    "    else:\n",
    "        temp3 = pd.concat([temp3, pd.DataFrame(res1.mean(axis = 0)).T])\n",
    "        temp4 = pd.concat([temp4, pd.DataFrame(res2.mean(axis = 0)).T])\n",
    "    \n",
    "print(\"total : \", temp)\n",
    "print(\"ACC : \", acc)\n",
    "# print(*acc_lst)\n",
    "print(\"Var : \", var)\n",
    "# print(*var_lst)"
   ]
  },
  {
   "cell_type": "code",
   "execution_count": 4,
   "id": "6568c8e7",
   "metadata": {},
   "outputs": [],
   "source": [
    "a = pd.concat([temp1, temp3], axis = 0)\n",
    "b = pd.concat([temp2, temp4], axis = 0)\n",
    "df = pd.concat([a, b], axis = 1)\n",
    "df.columns = [\"IBS_var\", \"IBS_acc\", \"PI_var\", \"PI_acc\"]\n",
    "\n",
    "df[\"var_diff\"] = 0\n",
    "df[\"acc_diff\"] = 0\n",
    "\n",
    "for i in range(len(df)):\n",
    "    df.iloc[i, -1] = df.iloc[i, 1] - df.iloc[i, 3]\n",
    "    df.iloc[i, -2] = df.iloc[i, 0] - df.iloc[i, 2]"
   ]
  },
  {
   "cell_type": "code",
   "execution_count": 5,
   "id": "97ccb2ce",
   "metadata": {},
   "outputs": [
    {
     "data": {
      "text/plain": [
       "(array([ 1.,  0.,  2.,  0.,  6., 18., 16.,  3.,  2.,  2.]),\n",
       " array([-0.01866667, -0.01551   , -0.01235333, -0.00919667, -0.00604   ,\n",
       "        -0.00288333,  0.00027333,  0.00343   ,  0.00658667,  0.00974333,\n",
       "         0.0129    ]),\n",
       " <BarContainer object of 10 artists>)"
      ]
     },
     "execution_count": 5,
     "metadata": {},
     "output_type": "execute_result"
    },
    {
     "data": {
      "image/png": "[encoded data removed]",
      "text/plain": [
       "<Figure size 432x288 with 1 Axes>"
      ]
     },
     "metadata": {
      "needs_background": "light"
     },
     "output_type": "display_data"
    }
   ],
   "source": [
    "plt.hist(df.iloc[:, -1])"
   ]
  },
  {
   "cell_type": "code",
   "execution_count": 6,
   "id": "fe0420a8",
   "metadata": {},
   "outputs": [
    {
     "data": {
      "text/plain": [
       "{'whiskers': [<matplotlib.lines.Line2D at 0x7f9290677250>,\n",
       "  <matplotlib.lines.Line2D at 0x7f9290677610>],\n",
       " 'caps': [<matplotlib.lines.Line2D at 0x7f9290677a50>,\n",
       "  <matplotlib.lines.Line2D at 0x7f9290677e90>],\n",
       " 'boxes': [<matplotlib.lines.Line2D at 0x7f929066ad50>],\n",
       " 'medians': [<matplotlib.lines.Line2D at 0x7f9290688350>],\n",
       " 'fliers': [<matplotlib.lines.Line2D at 0x7f9290688790>],\n",
       " 'means': []}"
      ]
     },
     "execution_count": 6,
     "metadata": {},
     "output_type": "execute_result"
    },
    {
     "data": {
      "image/png": "[encoded data removed]",
      "text/plain": [
       "<Figure size 432x288 with 1 Axes>"
      ]
     },
     "metadata": {
      "needs_background": "light"
     },
     "output_type": "display_data"
    }
   ],
   "source": [
    "plt.boxplot(df.iloc[:, -1])"
   ]
  }
 ],
 "metadata": {
  "kernelspec": {
   "display_name": "Python 3 (ipykernel)",
   "language": "python",
   "name": "python3"
  },
  "language_info": {
   "codemirror_mode": {
    "name": "ipython",
    "version": 3
   },
   "file_extension": ".py",
   "mimetype": "text/x-python",
   "name": "python",
   "nbconvert_exporter": "python",
   "pygments_lexer": "ipython3",
   "version": "3.7.10"
  }
 },
 "nbformat": 4,
 "nbformat_minor": 5
}
