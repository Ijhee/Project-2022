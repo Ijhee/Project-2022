{
 "cells": [
  {
   "cell_type": "code",
   "execution_count": 1,
   "id": "c8357268",
   "metadata": {},
   "outputs": [],
   "source": [
    "from sklearn.tree import DecisionTreeClassifier\n",
    "from sklearn.model_selection import train_test_split, GridSearchCV\n",
    "from sklearn.metrics import accuracy_score\n",
    "from itertools import *\n",
    "\n",
    "import pandas as pd\n",
    "import numpy as np\n",
    "import random\n",
    "\n",
    "import time\n",
    "\n",
    "import warnings\n",
    "warnings.filterwarnings(\"ignore\")"
   ]
  },
  {
   "cell_type": "code",
   "execution_count": 2,
   "id": "891396c7",
   "metadata": {},
   "outputs": [],
   "source": [
    "name = \"kcy\"\n",
    "num = 24\n",
    "DATA_PATH = name + \"_df\" + str(num) + \".csv\"\n",
    "df = pd.read_csv(DATA_PATH)"
   ]
  },
  {
   "cell_type": "code",
   "execution_count": 3,
   "id": "c7abb2da",
   "metadata": {},
   "outputs": [],
   "source": [
    "params = {\"criterion\" : [\"gini\", \"entropy\", \"log_loss\"],\n",
    "          \"splitter\" : [\"best\", \"random\"],\n",
    "          \"max_features\" : [1, \"auto\", \"sqrt\", \"log2\"]}\n",
    "epochs = 50"
   ]
  },
  {
   "cell_type": "code",
   "execution_count": 4,
   "id": "f18dd375",
   "metadata": {},
   "outputs": [
    {
     "name": "stdout",
     "output_type": "stream",
     "text": [
      "1 Epoch starts working\n",
      "2 Epoch starts working\n",
      "3 Epoch starts working\n",
      "4 Epoch starts working\n",
      "5 Epoch starts working\n",
      "6 Epoch starts working\n",
      "7 Epoch starts working\n",
      "8 Epoch starts working\n",
      "9 Epoch starts working\n",
      "10 Epoch starts working\n",
      "11 Epoch starts working\n",
      "12 Epoch starts working\n",
      "13 Epoch starts working\n",
      "14 Epoch starts working\n",
      "15 Epoch starts working\n",
      "16 Epoch starts working\n",
      "17 Epoch starts working\n",
      "18 Epoch starts working\n",
      "19 Epoch starts working\n",
      "20 Epoch starts working\n",
      "21 Epoch starts working\n",
      "22 Epoch starts working\n",
      "23 Epoch starts working\n",
      "24 Epoch starts working\n",
      "25 Epoch starts working\n",
      "26 Epoch starts working\n",
      "27 Epoch starts working\n",
      "28 Epoch starts working\n",
      "29 Epoch starts working\n",
      "30 Epoch starts working\n",
      "31 Epoch starts working\n",
      "32 Epoch starts working\n",
      "33 Epoch starts working\n",
      "34 Epoch starts working\n",
      "35 Epoch starts working\n",
      "36 Epoch starts working\n",
      "37 Epoch starts working\n",
      "38 Epoch starts working\n",
      "39 Epoch starts working\n",
      "40 Epoch starts working\n",
      "41 Epoch starts working\n",
      "42 Epoch starts working\n",
      "43 Epoch starts working\n",
      "44 Epoch starts working\n",
      "45 Epoch starts working\n",
      "46 Epoch starts working\n",
      "47 Epoch starts working\n",
      "48 Epoch starts working\n",
      "49 Epoch starts working\n",
      "50 Epoch starts working\n"
     ]
    }
   ],
   "source": [
    "strt = time.time()\n",
    "final_score_lst = []\n",
    "for _ in range(epochs):\n",
    "    print(str(_ + 1) + \" Epoch starts working\")\n",
    "    df = df.sample(frac = 1)\n",
    "    point1 = int(len(df) * 0.5)\n",
    "    train, test = df.iloc[:point1, :], df.iloc[point1: , :]\n",
    "    score_dict = dict()\n",
    "    for _idx in range(100):\n",
    "        \n",
    "        point2 = int(len(train) * 0.5)\n",
    "        trainA, trainB = train.iloc[:point2, :], train.iloc[point2:, :]\n",
    "        trainA = trainA.sample(frac = 1); trainB = trainB.sample(frac = 1)\n",
    "        \n",
    "        X_train, y_train = trainA.drop([\"target\"], axis = 1), trainA[\"target\"]\n",
    "        X_test, y_test = trainB.drop([\"target\"], axis = 1), trainB[\"target\"]\n",
    "        \n",
    "        dt_clf = DecisionTreeClassifier()\n",
    "        model = GridSearchCV(dt_clf, params, cv = 5, refit = True)\n",
    "        model.fit(X_train, y_train)\n",
    "        \n",
    "        fmodel = model.best_estimator_\n",
    "\n",
    "        for col in [\"None\"] + list(X_train.columns):\n",
    "            if col == \"None\":\n",
    "                pred = fmodel.predict(X_test)\n",
    "                if _idx == 0: score_dict[\"og\"] = accuracy_score(y_test, pred)\n",
    "                else: score_dict[\"og\"] += accuracy_score(y_test, pred)\n",
    "            else:\n",
    "                save = X_test[col].copy()\n",
    "                X_test[col] = np.random.permutation(X_test[col])\n",
    "                pred = fmodel.predict(X_test)\n",
    "                X_test[col] = save\n",
    "                if _idx == 0: score_dict[col] = accuracy_score(y_test, pred)\n",
    "                else: score_dict[col] += accuracy_score(y_test, pred)\n",
    "    lst = []\n",
    "    for k, v in score_dict.items():\n",
    "        if k == \"og\": key = v\n",
    "        else:\n",
    "            lst.append([k, (key - v) / 100])\n",
    "            \n",
    "    lst = sorted(lst, key = lambda x : x[1], reverse = True)\n",
    "    for a, b in enumerate(lst):\n",
    "        if b[1] < 0: break\n",
    "        else: lst[a] = lst[a][0]\n",
    "    if a == 0: pass\n",
    "    else: lst = lst[:a]\n",
    "    \n",
    "    train = train.loc[:, lst + [\"target\"]]; test = test.loc[:, lst + [\"target\"]]\n",
    "    \n",
    "    X, y = train.drop([\"target\"], axis = 1), train[\"target\"]\n",
    "    X_test, y_test = test.drop([\"target\"], axis = 1), test[\"target\"]\n",
    "    \n",
    "    dt_clf = DecisionTreeClassifier()\n",
    "    model = GridSearchCV(dt_clf, params, cv = 5, refit = True)\n",
    "    model.fit(X, y)\n",
    "    fmodel = model.best_estimator_\n",
    "    \n",
    "    pred = fmodel.predict(X_test)\n",
    "    \n",
    "    final_score_lst.append([len(lst), accuracy_score(pred, y_test)])\n",
    "end = time.time()"
   ]
  },
  {
   "cell_type": "code",
   "execution_count": 5,
   "id": "94a8bfa0",
   "metadata": {},
   "outputs": [
    {
     "name": "stdout",
     "output_type": "stream",
     "text": [
      "10.74 0.6436079999999998 2172.928414106369\n"
     ]
    }
   ],
   "source": [
    "v, s = 0, 0\n",
    "for a, b in final_score_lst:\n",
    "    v += a; s += b\n",
    "print(v / epochs, s / epochs, end - strt)"
   ]
  },
  {
   "cell_type": "code",
   "execution_count": 6,
   "id": "f2672c5f",
   "metadata": {},
   "outputs": [
    {
     "name": "stdout",
     "output_type": "stream",
     "text": [
      "0.643608 0.6449 0.006989244308221018\n"
     ]
    }
   ],
   "source": [
    "temp_lst = [i[1] for i in final_score_lst]\n",
    "print(np.mean(temp_lst), np.median(temp_lst), np.std(temp_lst))"
   ]
  },
  {
   "cell_type": "code",
   "execution_count": 7,
   "id": "385d571c",
   "metadata": {},
   "outputs": [],
   "source": [
    "pd.DataFrame(final_score_lst).to_csv(\"PI-res-\" + DATA_PATH, index = False)"
   ]
  }
 ],
 "metadata": {
  "kernelspec": {
   "display_name": "Python 3 (ipykernel)",
   "language": "python",
   "name": "python3"
  },
  "language_info": {
   "codemirror_mode": {
    "name": "ipython",
    "version": 3
   },
   "file_extension": ".py",
   "mimetype": "text/x-python",
   "name": "python",
   "nbconvert_exporter": "python",
   "pygments_lexer": "ipython3",
   "version": "3.7.10"
  }
 },
 "nbformat": 4,
 "nbformat_minor": 5
}
