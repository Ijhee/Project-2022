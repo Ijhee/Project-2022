{
 "cells": [
  {
   "cell_type": "code",
   "execution_count": 88,
   "id": "a798dae1",
   "metadata": {},
   "outputs": [],
   "source": [
    "import pandas as pd\n",
    "import numpy as np\n",
    "\n",
    "import warnings\n",
    "warnings.filterwarnings(\"ignore\")\n",
    "\n",
    "from sklearn.decomposition import PCA\n",
    "from sklearn.preprocessing import StandardScaler, MinMaxScaler\n",
    "\n",
    "from sklearn.model_selection import train_test_split\n",
    "\n",
    "from sklearn.cluster import KMeans, MeanShift, DBSCAN, AgglomerativeClustering\n",
    "from sklearn.mixture import GaussianMixture\n",
    "\n",
    "from sklearn.datasets import make_blobs\n",
    "import matplotlib.pyplot as plt\n",
    "\n",
    "from sklearn.ensemble import RandomForestClassifier\n",
    "from sklearn.linear_model import LogisticRegression\n",
    "\n",
    "from sklearn.metrics import accuracy_score\n",
    "import matplotlib.pyplot as plt"
   ]
  },
  {
   "cell_type": "code",
   "execution_count": 30,
   "id": "73a4919b",
   "metadata": {},
   "outputs": [],
   "source": [
    "def eda_pca(DATA_PATH):\n",
    "    \n",
    "    df = pd.read_csv(DATA_PATH)\n",
    "    X, y = df.drop([\"target\"], axis = 1), df[\"target\"]\n",
    "    X_train_og, X_test_og, y_train, y_test = train_test_split(X, y, test_size = 0.2)\n",
    "    \n",
    "    scaler = StandardScaler()\n",
    "    X_train_scaled, X_test_scaled = scaler.fit_transform(X_train_og), scaler.transform(X_test_og)\n",
    "    \n",
    "    pca = PCA(n_components = 2)\n",
    "    X_train_pca, X_test_pca = pca.fit_transform(X_train_scaled), pca.transform(X_test_scaled)\n",
    "    \n",
    "    y = pd.DataFrame(y_train)\n",
    "    y.reset_index(inplace = True, drop = True)\n",
    "    df = pd.concat([pd.DataFrame(X_train_pca), y], axis = 1)\n",
    "    \n",
    "    return X_train_pca, X_test_pca, y_train, y_test, df, X_train_og, X_test_og"
   ]
  },
  {
   "cell_type": "code",
   "execution_count": 31,
   "id": "96c136c4",
   "metadata": {},
   "outputs": [],
   "source": [
    "def find_center(X_train, y_train):\n",
    "    model = LogisticRegression()\n",
    "    model.fit(X_train, y_train)\n",
    "\n",
    "    prob = model.predict_proba(X_train) #확률 2차원\n",
    "    pred = model.predict(X_train) #예측값 1차원\n",
    "\n",
    "    y_train = pd.DataFrame(y_train) #정답\n",
    "    y_train.reset_index(inplace = True, drop = True)\n",
    "\n",
    "    prob_df = pd.DataFrame(prob) #확률 2차원 데이터프레임\n",
    "\n",
    "    prob_df = pd.concat([prob_df, y_train], axis = 1) #확률 + 정답\n",
    "    prob_df = pd.concat([prob_df, pd.DataFrame(pred)], axis = 1) #확률 + 정답 + 예측값\n",
    "    prob_df.columns = [\"Prob_Zero\", \"Prob_One\", \"target\", \"Predicted Value\"]\n",
    "\n",
    "    zero_idx = prob_df.sort_values(\"Prob_Zero\", ascending = False)[:10].index\n",
    "    one_idx = prob_df.sort_values(\"Prob_One\", ascending = False)[:10].index\n",
    "    \n",
    "    return list(zero_idx), list(one_idx), prob_df"
   ]
  },
  {
   "cell_type": "code",
   "execution_count": 32,
   "id": "c5c499d3",
   "metadata": {},
   "outputs": [],
   "source": [
    "def make_radius(initial_val, step, patient, df, chk, chk_idx):\n",
    "    \n",
    "    flag = True\n",
    "    r = initial_val\n",
    "    patient = patient\n",
    "    \n",
    "    sub_df = df[df.iloc[:, -1] == chk]\n",
    "    a, b = df.iloc[chk_idx[0], 0], df.iloc[chk_idx[0], 1]\n",
    "    \n",
    "    while flag:\n",
    "        cnt = 0\n",
    "        for i in range(len(sub_df)):\n",
    "            if (sub_df.iloc[i, 0] - a) ** 2 + (sub_df.iloc[i, 1] - b) ** 2 <= r**2:\n",
    "                cnt += 1\n",
    "        if cnt > patient: r -= step; flag = False\n",
    "        else: r += 0.1\n",
    "    \n",
    "    return r, a, b"
   ]
  },
  {
   "cell_type": "code",
   "execution_count": 33,
   "id": "c42ee78b",
   "metadata": {},
   "outputs": [],
   "source": [
    "def data_aug(r, a, b):\n",
    "    \n",
    "    temp = []\n",
    "    while True:\n",
    "        p = np.random.normal(a, scale = 1.0, size = 1)\n",
    "        q = np.random.normal(b, scale = 1.0, size = 1)\n",
    "        \n",
    "        if (p - a)**2 + (q - b)**2 > r**2: continue\n",
    "        else: temp.append([float(p), float(q)])\n",
    "        \n",
    "        if len(temp) == 1000: break\n",
    "    \n",
    "    return temp"
   ]
  },
  {
   "cell_type": "code",
   "execution_count": 36,
   "id": "c10dc3d7",
   "metadata": {},
   "outputs": [],
   "source": [
    "def sum_data(temp1, temp2):\n",
    "    \n",
    "    s1 = pd.concat([pd.DataFrame(temp1), pd.DataFrame([0]*len(temp1))], axis = 1)\n",
    "    s2 = pd.concat([pd.DataFrame(temp2), pd.DataFrame([1]*len(temp2))], axis = 1)\n",
    "    \n",
    "    sub = pd.concat([s1, s2], axis = 0)\n",
    "    sub.columns = [0, 1, \"target\"]\n",
    "    ndf = pd.concat([df, sub], axis = 0)\n",
    "    ndf.reset_index(inplace = True, drop = True)\n",
    "    \n",
    "    return ndf"
   ]
  },
  {
   "cell_type": "code",
   "execution_count": 37,
   "id": "1f2eb16f",
   "metadata": {},
   "outputs": [],
   "source": [
    "def scoring(ndf):\n",
    "    X_new, y_new = ndf.drop([\"target\"], axis = 1), ndf[\"target\"]\n",
    "    X_train, y_train\n",
    "    X_train_old, X_test_old\n",
    "\n",
    "    m1 = RandomForestClassifier(); m2 = RandomForestClassifier(); m3 = RandomForestClassifier()\n",
    "    m1.fit(X_train, y_train); m2.fit(X_new, y_new); m3.fit(X_train_old, y_train)\n",
    "    pred1 = m1.predict(X_test); pred2 = m2.predict(X_test); pred3 = m3.predict(X_test_old)\n",
    "\n",
    "    acc1 = accuracy_score(pred1, y_test); acc2 = accuracy_score(pred2, y_test); acc3 = accuracy_score(pred3, y_test)\n",
    "    \n",
    "    return [acc1, acc2, acc3]"
   ]
  },
  {
   "cell_type": "code",
   "execution_count": 78,
   "id": "9badfce6",
   "metadata": {},
   "outputs": [],
   "source": [
    "for i in data_lst:\n",
    "\n",
    "    X_train, X_test, y_train, y_test, df, X_train_old, X_test_old = eda_pca(\"ljh_df\" + str(i) + \".csv\")\n",
    "    zero_idx, one_idx, prob_df = find_center(X_train, y_train)\n",
    "    \n",
    "    r1, a1, b1 = np.round(make_radius(0.1, 0.1, 3, df, 1, zero_idx), 2)\n",
    "    r2, a2, b2 = np.round(make_radius(0.1, 0.1, 3, df, 0, one_idx), 2)\n",
    "    \n",
    "    temp1 = data_aug(r1, a1, b1)\n",
    "    temp2 = data_aug(r2, a2, b2)\n",
    "    ndf = sum_data(temp1, temp2)\n",
    "    \n",
    "    acc = scoring(ndf)\n",
    "    \n",
    "    if i == a[0]: df1 = pd.DataFrame(acc).T\n",
    "    else:\n",
    "        df1 = pd.concat([df1, pd.DataFrame(acc).T], axis = 0)"
   ]
  },
  {
   "cell_type": "code",
   "execution_count": 79,
   "id": "58b69541",
   "metadata": {},
   "outputs": [],
   "source": [
    "for i in data_lst2:\n",
    "\n",
    "    X_train, X_test, y_train, y_test, df, X_train_old, X_test_old = eda_pca(\"kcy_df\" + str(i) + \".csv\")\n",
    "    zero_idx, one_idx, prob_df = find_center(X_train, y_train)\n",
    "    \n",
    "    r1, a1, b1 = np.round(make_radius(0.1, 0.1, 3, df, 1, zero_idx), 2)\n",
    "    r2, a2, b2 = np.round(make_radius(0.1, 0.1, 3, df, 0, one_idx), 2)\n",
    "    \n",
    "    temp1 = data_aug(r1, a1, b1)\n",
    "    temp2 = data_aug(r2, a2, b2)\n",
    "    ndf = sum_data(temp1, temp2)\n",
    "    \n",
    "    acc = scoring(ndf)\n",
    "    \n",
    "    if i == b[0]: df2 = pd.DataFrame(acc).T\n",
    "    else:\n",
    "        df2 = pd.concat([df2, pd.DataFrame(acc).T], axis = 0)"
   ]
  },
  {
   "cell_type": "code",
   "execution_count": 107,
   "id": "4081c174",
   "metadata": {},
   "outputs": [
    {
     "name": "stdout",
     "output_type": "stream",
     "text": [
      "18 13\n"
     ]
    }
   ],
   "source": [
    "final_result = pd.concat([df1, df2], axis = 0)\n",
    "final_result.reset_index(inplace = True, drop = True)\n",
    "final_result.columns = [\"Aug\", \"afterPCA\", \"beforePCA\"]\n",
    "final_result[\"diff\"] = final_result[\"Aug\"] - final_result[\"afterPCA\"]\n",
    "\n",
    "w, l = 0, 0\n",
    "for i in range(len(final_result)):\n",
    "    if final_result.loc[i, \"diff\"] >= 0: w += 1\n",
    "    else: l += 1\n",
    "print(w, l)"
   ]
  },
  {
   "cell_type": "code",
   "execution_count": 108,
   "id": "b533a849",
   "metadata": {},
   "outputs": [
    {
     "data": {
      "text/plain": [
       "(array([ 2.,  1.,  8., 14.,  4.,  1.,  0.,  0.,  0.,  1.]),\n",
       " array([-0.02604167, -0.0184375 , -0.01083333, -0.00322917,  0.004375  ,\n",
       "         0.01197917,  0.01958333,  0.0271875 ,  0.03479167,  0.04239583,\n",
       "         0.05      ]),\n",
       " <BarContainer object of 10 artists>)"
      ]
     },
     "execution_count": 108,
     "metadata": {},
     "output_type": "execute_result"
    },
    {
     "data": {
      "image/png": "[encoded data removed]",
      "text/plain": [
       "<Figure size 432x288 with 1 Axes>"
      ]
     },
     "metadata": {
      "needs_background": "light"
     },
     "output_type": "display_data"
    }
   ],
   "source": [
    "plt.hist(final_result.iloc[:, -1])"
   ]
  }
 ],
 "metadata": {
  "kernelspec": {
   "display_name": "Python 3 (ipykernel)",
   "language": "python",
   "name": "python3"
  },
  "language_info": {
   "codemirror_mode": {
    "name": "ipython",
    "version": 3
   },
   "file_extension": ".py",
   "mimetype": "text/x-python",
   "name": "python",
   "nbconvert_exporter": "python",
   "pygments_lexer": "ipython3",
   "version": "3.7.10"
  }
 },
 "nbformat": 4,
 "nbformat_minor": 5
}
